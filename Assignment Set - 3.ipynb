{
 "cells": [
  {
   "cell_type": "markdown",
   "id": "f5c6293a",
   "metadata": {},
   "source": [
    "### Problem Statement\n",
    "Write a Python program to generate the next 15 leap years starting from a given year. Populate the leap years into a list and display the list. "
   ]
  },
  {
   "cell_type": "code",
   "execution_count": 22,
   "id": "21515b7c",
   "metadata": {},
   "outputs": [
    {
     "name": "stdout",
     "output_type": "stream",
     "text": [
      "[2008, 2012, 2016, 2020, 2024, 2028, 2032, 2036, 2040, 2044, 2048, 2052, 2056, 2060, 2064]\n"
     ]
    }
   ],
   "source": [
    "#lex_auth_012693797166096384149\n",
    "\n",
    "def find_leap_years(given_year):\n",
    "\n",
    "    # Write your logic here\n",
    "    list_of_leap_years=[]\n",
    "    given_year1=given_year\n",
    "    while len(list_of_leap_years)<15:\n",
    "        if given_year1%4==0 and given_year1 %100 != 0 or given_year1 % 400 == 0:\n",
    "            list_of_leap_years.append(given_year1)\n",
    "        given_year1+=1\n",
    "    return list_of_leap_years\n",
    "\n",
    "list_of_leap_years=find_leap_years(2005)\n",
    "print(list_of_leap_years)"
   ]
  },
  {
   "cell_type": "markdown",
   "id": "7fd1e122",
   "metadata": {},
   "source": [
    "### Problem Statement\n",
    "ARS Gems Store sells different varieties of gems to its customers.\n",
    "\n",
    "Write a Python program to calculate the bill amount to be paid by a customer based on the list of gems and quantity purchased. Any purchase with a total bill amount above Rs.30000 is entitled for 5% discount. If any gem required by the customer is not available in the store, then consider total bill amount to be -1.\n",
    "\n",
    "Assume that quantity required by the customer for any gem will always be greater than 0.\n",
    "\n",
    "Perform case-sensitive comparison wherever applicable."
   ]
  },
  {
   "cell_type": "code",
   "execution_count": 91,
   "id": "f2bbf501",
   "metadata": {},
   "outputs": [
    {
     "name": "stdout",
     "output_type": "stream",
     "text": [
      "68347.75\n"
     ]
    }
   ],
   "source": [
    "#lex_auth_012693795044450304151\n",
    "\n",
    "def calculate_bill_amount(gems_list, price_list, reqd_gems,reqd_quantity):\n",
    "    bill_amount=0\n",
    "    #Write your logic here\n",
    "    n=len(reqd_gems)\n",
    "    for i in range(n):\n",
    "        if reqd_gems[i] in gems_list:\n",
    "            j=gems_list.index(reqd_gems[i])\n",
    "            bill_amount+= price_list[j]*reqd_quantity[i]\n",
    "#             print(price_list[j],reqd_quantity[i])\n",
    "        else:\n",
    "            bill_amount=-1\n",
    "            return bill_amount\n",
    "    if bill_amount>30000:\n",
    "        bill_amount=0.95 * bill_amount\n",
    "    return bill_amount\n",
    "\n",
    "\n",
    "# #List of gems available in the store\n",
    "gems_list=[\"Emerald\",\"Ivory\",\"Jasper\",\"Ruby\",\"Garnet\"]\n",
    "\n",
    "# #Price of gems available in the store. gems_list and price_list have one-to-one correspondence\n",
    "price_list=[1760,2119,1599,3920,3999]\n",
    "\n",
    "# #List of gems required by the customer\n",
    "reqd_gems=[\"Ivory\",\"Emerald\",\"Garnet\"]\n",
    "\n",
    "# #Quantity of gems required by the customer. reqd_gems and reqd_quantity have one-to-one correspondence\n",
    "reqd_quantity=[3,10,12]\n",
    "\n",
    "bill_amount=calculate_bill_amount(gems_list, price_list, reqd_gems, reqd_quantity)\n",
    "print(bill_amount)"
   ]
  },
  {
   "cell_type": "markdown",
   "id": "9625a79f",
   "metadata": {},
   "source": [
    "### Problem Statement\n",
    "Write a python function, create_largest_number(), which accepts a list of numbers and returns the largest number possible by concatenating the list of numbers.\u000b",
    " \n",
    "Note: Assume that all the numbers are two digit numbers."
   ]
  },
  {
   "cell_type": "code",
   "execution_count": 131,
   "id": "825806d8",
   "metadata": {},
   "outputs": [
    {
     "ename": "SyntaxError",
     "evalue": "invalid syntax (961847960.py, line 2)",
     "output_type": "error",
     "traceback": [
      "\u001b[1;36m  Input \u001b[1;32mIn [131]\u001b[1;36m\u001b[0m\n\u001b[1;33m    .join(l1)(\"\")\u001b[0m\n\u001b[1;37m    ^\u001b[0m\n\u001b[1;31mSyntaxError\u001b[0m\u001b[1;31m:\u001b[0m invalid syntax\n"
     ]
    }
   ],
   "source": [
    "l1=[1,2,3,4]\n",
    ",.join(l1)"
   ]
  },
  {
   "cell_type": "code",
   "execution_count": 165,
   "id": "2b0d1a4b",
   "metadata": {},
   "outputs": [
    {
     "name": "stdout",
     "output_type": "stream",
     "text": [
      "674523\n"
     ]
    }
   ],
   "source": [
    "#lex_auth_01269441913243238467\n",
    "\n",
    "def create_largest_number(number_list):\n",
    "    permutations = [[]]\n",
    "\n",
    "    # For each element in the input list\n",
    "    for elem in number_list:\n",
    "        # Create a new list to store the new permutations\n",
    "        new_permutations = []\n",
    "\n",
    "        # For each existing permutation\n",
    "        for perm in permutations:\n",
    "            # Insert the current element at every possible position\n",
    "            for i in range(len(perm) + 1):\n",
    "                new_perm = perm[:i] + [elem] + perm[i:]\n",
    "                new_permutations.append(new_perm)\n",
    "\n",
    "        # Replace the old permutations with the new permutations\n",
    "        permutations = new_permutations\n",
    "        l=[]\n",
    "        for i in permutations:\n",
    "            concatenated_string = int(''.join(str(elem) for elem in i))\n",
    "            l.append(concatenated_string)   \n",
    "#             print(concatenated_string)\n",
    "    return max(l)\n",
    "        \n",
    "\n",
    "number_list=[23,45,67]\n",
    "largest_number=create_largest_number(number_list)\n",
    "print(largest_number)"
   ]
  },
  {
   "cell_type": "code",
   "execution_count": 138,
   "id": "9ae15495",
   "metadata": {},
   "outputs": [
    {
     "name": "stdout",
     "output_type": "stream",
     "text": [
      "674523\n",
      "456723\n",
      "452367\n",
      "672345\n",
      "236745\n",
      "234567\n"
     ]
    }
   ],
   "source": []
  },
  {
   "cell_type": "code",
   "execution_count": 92,
   "id": "9dedbcd5",
   "metadata": {},
   "outputs": [
    {
     "name": "stdout",
     "output_type": "stream",
     "text": [
      "(1, 2, 3)\n",
      "(1, 3, 2)\n",
      "(2, 1, 3)\n",
      "(2, 3, 1)\n",
      "(3, 1, 2)\n",
      "(3, 2, 1)\n"
     ]
    }
   ],
   "source": [
    "from itertools import permutations\n",
    " \n",
    " \n",
    "# Get all permutations of [1, 2, 3]\n",
    "perm = permutations([1, 2, 3])\n",
    " \n",
    "# Print the obtained permutations\n",
    "for i in list(perm):\n",
    "    print (i)"
   ]
  }
 ],
 "metadata": {
  "kernelspec": {
   "display_name": "Python 3 (ipykernel)",
   "language": "python",
   "name": "python3"
  },
  "language_info": {
   "codemirror_mode": {
    "name": "ipython",
    "version": 3
   },
   "file_extension": ".py",
   "mimetype": "text/x-python",
   "name": "python",
   "nbconvert_exporter": "python",
   "pygments_lexer": "ipython3",
   "version": "3.9.12"
  }
 },
 "nbformat": 4,
 "nbformat_minor": 5
}
