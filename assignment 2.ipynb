{
 "cells": [
  {
   "cell_type": "markdown",
   "id": "bf0a2b15",
   "metadata": {},
   "source": [
    "## Turtle"
   ]
  },
  {
   "cell_type": "code",
   "execution_count": 33,
   "id": "147262af",
   "metadata": {},
   "outputs": [],
   "source": [
    "import turtle\n",
    "wn = turtle.Screen()    # creates a graphics window\n",
    "wn.setup(500,500)       # set window dimension\n",
    "\n",
    "alex = turtle.Turtle()  # create a turtle named alex\n",
    "alex.shape(\"turtle\")    # alex looks like a turtle\n",
    "\n",
    "'''\n",
    "alex.color(\"black\")    # alex has a color\n",
    "alex.right(60)         # alex turns 60 degrees right\n",
    "alex.left(60)          # alex turns 60 degrees left\n",
    "alex.circle(50)        # draws a circle of radius 50\n",
    "#draws circles\n",
    "for counter in range(1,3):\n",
    "    alex.circle(20*counter)\n",
    "'''\n",
    "alex.color(\"blue\")\n",
    "alex.right(120)\n",
    "for i in range(20,81,20):\n",
    "   alex.circle(i)\n",
    "\n",
    "alex.color(\"red\")\n",
    "alex.right(120)\n",
    "for i in range(20,81,20):\n",
    "   alex.circle(i)\n",
    "\n",
    "alex.color(\"green\")\n",
    "alex.right(120)\n",
    "for i in range(20,81,20):\n",
    "   alex.circle(i)\n",
    "\n",
    "#Write the logic to create the given pattern\n",
    "#Refer the statements given above to draw the pattern\n",
    "                        "
   ]
  },
  {
   "cell_type": "code",
   "execution_count": null,
   "id": "82ed4f49",
   "metadata": {},
   "outputs": [],
   "source": []
  },
  {
   "cell_type": "markdown",
   "id": "d134950d",
   "metadata": {},
   "source": [
    "### Problem Statement - 1\n",
    "Write a python program to find and display the product of three positive integer values based on the rule mentioned below:\n",
    "\n",
    "It should display the product of the three values except when one of the integer value is 7. In that case, 7 should not be included in the product and the values to its left also should not be included.\n",
    "If there is only one value to be considered, display that value itself. If no values can be included in the product, display -1.\n",
    "\n",
    "Note: Assume that if 7 is one of the positive integer values, then it will occur only once. Refer the sample I/O given below.\n",
    "\n",
    "Sample Input\n",
    "\n",
    "Expected Output\n",
    "\n",
    "1, 5, 3 = 15\n",
    "\n",
    "3, 7, 8=8\n",
    "\n",
    "7, 4, 3 = 12\n",
    "\n",
    "1, 5, 7 = -1\n",
    "\n",
    "Note: Assignment should be done in Eclipse Plug-in"
   ]
  },
  {
   "cell_type": "code",
   "execution_count": 1,
   "id": "63092ef5",
   "metadata": {},
   "outputs": [
    {
     "name": "stdout",
     "output_type": "stream",
     "text": [
      "12\n"
     ]
    }
   ],
   "source": [
    "#lex_auth_012693711503400960120\n",
    "\n",
    "def find_product(num1,num2,num3):\n",
    "    product=0\n",
    "    if num1 == 7  and num2 !=7 and num3 !=7:\n",
    "       product=num3*num2\n",
    "       \n",
    "    elif num2==7 and num3 !=7:\n",
    "       product=num3\n",
    "       \n",
    "    elif num3==7:\n",
    "       product= -1\n",
    "    else:\n",
    "       product=num1*num2*num3\n",
    "    \n",
    "    #write your logic here\n",
    "    return product\n",
    "\n",
    "#Provide different values for num1, num2, num3 and test your program\n",
    "product=find_product(7,6,2)\n",
    "print(product)"
   ]
  },
  {
   "cell_type": "markdown",
   "id": "f3a2dfa8",
   "metadata": {},
   "source": [
    "### Problem Statement 2\n",
    "Write a python function to check whether three given numbers can form the sides of a triangle. \n",
    "Hint\u000b",
    ": Three numbers can be the sides of a triangle if none of the numbers are greater than or equal to the sum of the other two numbers."
   ]
  },
  {
   "cell_type": "code",
   "execution_count": null,
   "id": "e32d5627",
   "metadata": {},
   "outputs": [],
   "source": [
    "#lex_auth_012693802383794176153\n",
    "\n",
    "def form_triangle(num1,num2,num3):\n",
    "    #Do not change the messages provided below\n",
    "    success=\"Triangle can be formed\"\n",
    "    failure=\"Triangle can't be formed\"\n",
    "\n",
    "    #Write your logic here\n",
    "    if num1< num2+num3 and num2<num1+num3 and num3<num1+num2:\n",
    "       return success\n",
    "    else:\n",
    "       return failure\n",
    "    \n",
    "#Provide different values for the variables, num1, num2, num3 and test your program\n",
    "num1=3\n",
    "num2=3\n",
    "num3=5\n",
    "form_triangle(num1, num2, num3)"
   ]
  },
  {
   "cell_type": "markdown",
   "id": "74661eaf",
   "metadata": {},
   "source": [
    "### Problem Statement 3\n",
    "You have x no. of 5 rupee coins and y no. of 1 rupee coins. You want to purchase an item for amount z. The shopkeeper wants you to provide exact change. You want to pay using minimum number of coins. How many 5 rupee coins and 1 rupee coins will you use? If exact change is not possible then display -1."
   ]
  },
  {
   "cell_type": "code",
   "execution_count": 32,
   "id": "43c9c8eb",
   "metadata": {},
   "outputs": [
    {
     "name": "stdout",
     "output_type": "stream",
     "text": [
      "No. of Five needed : 5\n",
      "No. of One needed  : 3\n"
     ]
    }
   ],
   "source": [
    "#lex_auth_012693780491968512136\n",
    "def make_amount(rupees_to_make,no_of_five,no_of_one):\n",
    "    five_needed=0\n",
    "    one_needed=0\n",
    "    \n",
    "    five_needed= rupees_to_make // 5\n",
    "    one_needed= rupees_to_make % 5\n",
    "    \n",
    "    if five_needed <= no_of_five and one_needed <= no_of_one:\n",
    "       print(\"No. of Five needed :\", five_needed)\n",
    "       print(\"No. of One needed  :\", one_needed)\n",
    "    elif five_needed > no_of_five and  one_needed <= no_of_one:\n",
    "       extra_five= five_needed - no_of_five\n",
    "       five_needed -= extra_five\n",
    "       one_needed = rupees_to_make - five_needed*5\n",
    "       if one_needed <= no_of_one:\n",
    "          print(\"No. of Five needed :\", five_needed)\n",
    "          print(\"No. of One needed  :\", one_needed)\n",
    "       else:\n",
    "          print(-1)\n",
    "    else:\n",
    "       print(-1)\n",
    "\n",
    "#Provide different values for rupees_to_make,no_of_five,no_of_one and test your program\n",
    "make_amount(28,8,5)"
   ]
  },
  {
   "cell_type": "markdown",
   "id": "a0bf57a4",
   "metadata": {},
   "source": [
    "#### Problem Statement 7\n",
    "Write a python program which finds the maximum number from num1 to num2 (num2 inclusive) based on the following rules.\n",
    " \n",
    "\n",
    "1. Always num1 should be less than num2\n",
    "\n",
    "2. Consider each number from num1 to num2 (num2 inclusive). Populate the number into a list, if the below conditions are satisfied\n",
    "\n",
    "      a. Sum of the digits of the number is a multiple of 3\n",
    "\n",
    "      b. Number has only two digits\n",
    "\n",
    "      c. Number is a multiple of 5\n",
    "\n",
    "3. Display the maximum element from the list\n",
    "\n",
    "In case of any invalid data or if the list is empty, display -1."
   ]
  },
  {
   "cell_type": "code",
   "execution_count": 1,
   "id": "54a074d8",
   "metadata": {},
   "outputs": [
    {
     "name": "stdout",
     "output_type": "stream",
     "text": [
      "-1\n"
     ]
    }
   ],
   "source": [
    "#lex_auth_012693813706604544157\n",
    "\n",
    "def find_max(num1, num2):\n",
    "    max_num=-1\n",
    "    sum=0\n",
    "    # Write your logic here\n",
    "    li=[]\n",
    "    if num1<num2:\n",
    "        for i in range(num1,num2+1):\n",
    "            if i<100 and i>9:\n",
    "\n",
    "                if i % 5==0:\n",
    "                    j=i\n",
    "                    while i>0:\n",
    "                        rem=i%10\n",
    "                        sum+=rem\n",
    "                        i=i//10\n",
    "                    if sum % 3==0:\n",
    "                        li.append(j)\n",
    "                    else:\n",
    "                        return -1\n",
    "                else:\n",
    "                    return -1\n",
    "            else:\n",
    "                return -1\n",
    "    \n",
    "               \n",
    "    if len(li)>0:\n",
    "       max_num=max(li)\n",
    "       return max_num\n",
    "    else:\n",
    "       return -1\n",
    "       \n",
    "    \n",
    "\n",
    "#Provide different values for num1 and num2 and test your program.\n",
    "max_num=find_max(30,30)\n",
    "print(max_num)"
   ]
  },
  {
   "cell_type": "code",
   "execution_count": 254,
   "id": "759ee35a",
   "metadata": {},
   "outputs": [
    {
     "name": "stdout",
     "output_type": "stream",
     "text": [
      "30\n"
     ]
    }
   ],
   "source": [
    "#lex_auth_012693813706604544157\n",
    "\n",
    "def find_max(num1, num2):\n",
    "    max_num=-1\n",
    "    sum=0\n",
    "    # Write your logic here\n",
    "    if num1 <= num2:\n",
    "        for i in range(num1,num2+1):\n",
    "            if i<100 and i>9:\n",
    "                if i % 5==0:\n",
    "                    j=i\n",
    "                    while i>0:\n",
    "                        rem=i%10\n",
    "                        sum+=rem\n",
    "                        i=i//10\n",
    "                    if sum % 3==0:\n",
    "                        if j > max_num:\n",
    "                            max_num=j\n",
    "        return max_num\n",
    "    else:\n",
    "        return\n",
    "        \n",
    "\n",
    "#Provide different values for num1 and num2 and test your program.\n",
    "max_num=find_max(30,30)\n",
    "print(max_num)"
   ]
  },
  {
   "cell_type": "code",
   "execution_count": 2,
   "id": "4e05cfae",
   "metadata": {},
   "outputs": [
    {
     "name": "stdout",
     "output_type": "stream",
     "text": [
      "-1\n"
     ]
    }
   ],
   "source": [
    "def find_max(num1, num2):\n",
    "    # check for invalid input\n",
    "    if num1 >= num2:\n",
    "        return -1\n",
    "\n",
    "    # initialize variables\n",
    "    max_num = -1\n",
    "    num_list = []\n",
    "\n",
    "    # loop  from num1 to num2+1\n",
    "    for num in range(num1, num2+1):\n",
    "        # check if number satisfies conditions\n",
    "        if sum(int(digit) for digit in str(num)) % 3 == 0 and num % 5 == 0 and num // 10 != 0 and num // 100 == 0:\n",
    "            num_list.append(num)\n",
    "\n",
    "    # check if list is empty\n",
    "    if not num_list:\n",
    "        return -1  \n",
    "\n",
    "    # find maximum number in list\n",
    "    max_num = max(num_list)\n",
    "\n",
    "    return max_num\n",
    "max_num=find_max(30,30)\n",
    "print(max_num)"
   ]
  },
  {
   "cell_type": "code",
   "execution_count": 4,
   "id": "34d61e86",
   "metadata": {},
   "outputs": [
    {
     "name": "stdout",
     "output_type": "stream",
     "text": [
      "90\n"
     ]
    }
   ],
   "source": [
    "def find_max(num1, num2):\n",
    "    # check for invalid input\n",
    "    if num1 >= num2:\n",
    "        return -1\n",
    "\n",
    "    # initialize variables\n",
    "    max_num = -1\n",
    "    num_list = []\n",
    "\n",
    "    # loop  from num1 to num2+1\n",
    "    for num in range(num1, num2+1):\n",
    "        # check if number satisfies conditions\n",
    "        sum=0\n",
    "        for digit in str(num):\n",
    "            sum+=int(digit)\n",
    "        if sum%3==0  and num % 5 == 0 and num // 10 != 0 and num // 100 == 0:\n",
    "            num_list.append(num)\n",
    "    # check if list is empty\n",
    "    if not num_list:\n",
    "        return -1  \n",
    "    # find maximum number in list\n",
    "    max_num = max(num_list)\n",
    "\n",
    "    return max_num\n",
    "max_num=find_max(10,100)\n",
    "print(max_num)"
   ]
  },
  {
   "cell_type": "markdown",
   "id": "5ab7a86c",
   "metadata": {},
   "source": [
    "### Problem Statement 4\n",
    "\n",
    "FoodCorner home delivers vegetarian and non-vegetarian combos to its customer based on order.\n",
    "\n",
    "A vegetarian combo costs Rs.120 per plate and a non-vegetarian combo costs Rs.150 per plate. Their non-veg combo is really famous that they get more orders for their non-vegetarian combo than the vegetarian combo.\n",
    "\n",
    "Apart from the cost per plate of food, customers are also charged for home delivery based on the distance in kms from the restaurant to the delivery point. The delivery charges are as mentioned below:\n",
    "\n",
    "Distance in kms\n",
    "\n",
    "Delivery charge in Rs per km\n",
    "\n",
    "For first 3kms  0\n",
    "\n",
    "For next 3kms  3\n",
    "\n",
    "For the remaining  6\n",
    "\n",
    "Given the type of food, quantity (no. of plates) and the distance in kms from the restaurant to the delivery point, write a python program to calculate the final bill amount to be paid by a customer. \n",
    "\n",
    "The below information must be used to check the validity of the data provided by the customer: \n",
    "\n",
    "Type of food must be ‘V’ for vegetarian and ‘N’ for non-vegetarian.\n",
    "\n",
    "Distance in kms must be greater than 0.\n",
    "\n",
    "Quantity ordered should be minimum 1.\n",
    "\n",
    "If any of the input is invalid, the bill amount should be considered as -1."
   ]
  },
  {
   "cell_type": "code",
   "execution_count": 32,
   "id": "6c5110fb",
   "metadata": {},
   "outputs": [
    {
     "name": "stdout",
     "output_type": "stream",
     "text": [
      "-1\n"
     ]
    }
   ],
   "source": [
    "#lex_auth_012693782475948032141\n",
    "\n",
    "def calculate_bill_amount(food_type,quantity_ordered,distance_in_kms):\n",
    "    bill_amount=0\n",
    "    #write your logic here\n",
    "    if quantity_ordered<1 or distance_in_kms<1:\n",
    "        return -1\n",
    "    if food_type!=\"N\" and food_type!=\"V\":\n",
    "       return -1\n",
    "    if food_type=='V':\n",
    "        bill_amount = 120*quantity_ordered\n",
    "        if distance_in_kms<=3:\n",
    "            pass\n",
    "        elif distance_in_kms>3 and distance_in_kms<=6:\n",
    "            rem=distance_in_kms-3\n",
    "            bill_amount+=rem*3\n",
    "        else :\n",
    "            rem=distance_in_kms-6\n",
    "            bill_amount+=rem*6 + 9\n",
    "    elif food_type==\"N\":\n",
    "        bill_amount = 150*quantity_ordered\n",
    "        if distance_in_kms<=3:\n",
    "            pass\n",
    "        elif distance_in_kms>3 and distance_in_kms<=6:\n",
    "            rem=distance_in_kms-3\n",
    "            bill_amount+=rem*3\n",
    "        else :\n",
    "            rem=distance_in_kms-6\n",
    "            bill_amount+=rem*6 + 9   \n",
    "    return bill_amount\n",
    "\n",
    "#Provide different values for food_type,quantity_ordered,distance_in_kms and test your program\n",
    "bill_amount=calculate_bill_amount(\"n\",2,8)\n",
    "print(bill_amount)"
   ]
  },
  {
   "cell_type": "markdown",
   "id": "e619b7ea",
   "metadata": {},
   "source": [
    "### Problem Statement 5\n",
    "The Metro Bank provides various types of loans such as car loans, business loans and house loans to its account holders. Write a python program to implement the following requirements:\n",
    "\n",
    "Initialize the following variables with appropriate input values:account_number, account_balance, salary, loan_type, loan_amount_expected and customer_emi_expected.\n",
    "\n",
    "The account number should be of 4 digits and its first digit should be 1.\n",
    "\n",
    "The customer should have a minimum balance of Rupees 1 Lakh in the account.\n",
    "\n",
    "If the above rules are valid, determine the eligible loan amount and the EMI that the bank can provide to its customers based on their salary and the loan type they expect to avail.\n",
    "\n",
    "The bank would provide the loan, only if the loan amount and the number of EMI’s requested by the customer is less than or equal to the loan amount and the number of EMI’s decided by the bank respectively.\n",
    "\n",
    "Display appropriate error messages for all invalid data. If all the business rules are satisfied ,then display account number, eligible and requested loan amount and EMI’s.\n",
    "Test your code by providing different values for the input variables.\n",
    "\n",
    "Salary\n",
    "\n",
    "Loan type\n",
    "\n",
    "Eligible loan amount\n",
    "\n",
    "No. of EMI’s required to repay\n",
    "\n",
    "> 25000 Car 500000 36\n",
    "\n",
    "> 50000 House 6000000 60\n",
    "\n",
    "> 75000 Business 7500000 84"
   ]
  },
  {
   "cell_type": "code",
   "execution_count": 27,
   "id": "63e00a62",
   "metadata": {},
   "outputs": [
    {
     "name": "stdout",
     "output_type": "stream",
     "text": [
      "The customer is not eligible for the loan\n"
     ]
    }
   ],
   "source": [
    "#lex_auth_012693788748742656146\n",
    "\n",
    "        \n",
    "def calculate_loan(account_number,salary,account_balance,loan_type,loan_amount_expected,customer_emi_expected):\n",
    "    eligible_loan_amount=0\n",
    "    bank_emi_expected=0\n",
    "    eligible_loan_amount=0\n",
    "    #Start writing your code here\n",
    "    if len(str(account_number)) ==4 and str(account_number)[0]=='1':\n",
    "        if account_balance >= 100000:\n",
    "            if salary > 25000 and loan_type==\"Car\":\n",
    "                eligible_loan_amount=500000\n",
    "                bank_emi_expected=36\n",
    "                if loan_amount_expected <= eligible_loan_amount and customer_emi_expected <= bank_emi_expected:\n",
    "                    print(\"Account number:\", account_number)\n",
    "                    print(\"The customer can avail the amount of Rs.\", eligible_loan_amount)\n",
    "                    print(\"Eligible EMIs :\", bank_emi_expected)\n",
    "                    print(\"Requested loan amount:\", loan_amount_expected)\n",
    "                    print(\"Requested EMI's:\",customer_emi_expected)\n",
    "                else:\n",
    "                    print(\"The customer is not eligible for the loan\")\n",
    "            elif salary >50000 and loan_type==\"House\":\n",
    "                eligible_loan_amount=6000000\n",
    "                bank_emi_expected=60\n",
    "                if loan_amount_expected <= eligible_loan_amount and customer_emi_expected <= bank_emi_expected:\n",
    "                    print(\"Account number:\", account_number)\n",
    "                    print(\"The customer can avail the amount of Rs.\", eligible_loan_amount)\n",
    "                    print(\"Eligible EMIs :\", bank_emi_expected)\n",
    "                    print(\"Requested loan amount:\", loan_amount_expected)\n",
    "                    print(\"Requested EMI's:\",customer_emi_expected)\n",
    "                else:\n",
    "                    print(\"The customer is not eligible for the loan\")\n",
    "            elif salary>75000 and loan_type==\"Business\":\n",
    "                eligible_loan_amount=7500000\n",
    "                bank_emi_expected=84\n",
    "                if loan_amount_expected <= eligible_loan_amount and customer_emi_expected <= bank_emi_expected:\n",
    "                    print(\"Account number:\", account_number)\n",
    "                    print(\"The customer can avail the amount of Rs.\", eligible_loan_amount)\n",
    "                    print(\"Eligible EMIs :\", bank_emi_expected)\n",
    "                    print(\"Requested loan amount:\", loan_amount_expected)\n",
    "                    print(\"Requested EMI's:\",customer_emi_expected)\n",
    "                else:\n",
    "                    print(\"The customer is not eligible for the loan\")\n",
    "            else:\n",
    "                print(\"Invalid loan type or salary\")\n",
    "        \n",
    "                \n",
    "        else:\n",
    "            print(\"Insufficient account balance\")\n",
    "        \n",
    "    else:\n",
    "        print(\"Invalid account number\")\n",
    "        \n",
    "     \n",
    "             \n",
    "    \n",
    "\n",
    "#Test your code for different values and observe the results\n",
    "calculate_loan(1001,40000,250000,\"Car\",300000,38)"
   ]
  },
  {
   "cell_type": "markdown",
   "id": "ff8c9ced",
   "metadata": {},
   "source": [
    "### Problem Statement\n",
    "Write a python program to solve a classic ancient Chinese puzzle.\n",
    "\n",
    "We count 35 heads and 94 legs among the chickens and rabbits in a farm. How many rabbits and how many chickens do we have?\n",
    "\n",
    "Sample Input\n",
    "\n",
    "Expected Output\n",
    "\n",
    "heads-150 legs-400  - 100 50\n",
    "\n",
    "heads-3 legs-11 - No solution\n",
    "\n",
    "heads-3 legs-12 - 0 3\n",
    "\n",
    "heads-5 legs-10 - 5 0\n",
    "\n"
   ]
  },
  {
   "cell_type": "code",
   "execution_count": 9,
   "id": "aa896b06",
   "metadata": {},
   "outputs": [
    {
     "name": "stdout",
     "output_type": "stream",
     "text": [
      "No solution\n"
     ]
    }
   ],
   "source": [
    "def solve(heads,legs):\n",
    "    error_msg=\"No solution\"\n",
    "    chicken_count=0\n",
    "    rabbit_count=0\n",
    "    \n",
    "    if(heads>=legs):\n",
    "        print(error_msg)\n",
    "    elif(legs%2!=0):\n",
    "        print(error_msg)\n",
    "    else:\n",
    "        rabbit_count=(legs-2*heads)/2\n",
    "        chicken_count=heads-rabbit_count\n",
    "        print(int(chicken_count),int(rabbit_count))\n",
    "\n",
    "solve(38,131)"
   ]
  },
  {
   "cell_type": "code",
   "execution_count": null,
   "id": "67a0f052",
   "metadata": {},
   "outputs": [],
   "source": []
  }
 ],
 "metadata": {
  "kernelspec": {
   "display_name": "Python 3 (ipykernel)",
   "language": "python",
   "name": "python3"
  },
  "language_info": {
   "codemirror_mode": {
    "name": "ipython",
    "version": 3
   },
   "file_extension": ".py",
   "mimetype": "text/x-python",
   "name": "python",
   "nbconvert_exporter": "python",
   "pygments_lexer": "ipython3",
   "version": "3.9.12"
  }
 },
 "nbformat": 4,
 "nbformat_minor": 5
}
