{
 "cells": [
  {
   "cell_type": "markdown",
   "id": "0b4399b1",
   "metadata": {},
   "source": [
    "### Problem Statement\n",
    "Given a list of integer values. Write a python program to check whether it contains same number in adjacent position. Display the count of such adjacent occurrences"
   ]
  },
  {
   "cell_type": "code",
   "execution_count": 28,
   "id": "1d83575c",
   "metadata": {
    "scrolled": true
   },
   "outputs": [
    {
     "name": "stdout",
     "output_type": "stream",
     "text": [
      "4\n"
     ]
    }
   ],
   "source": [
    "#lex_auth_012693750719488000124\n",
    "\n",
    "def get_count(num_list):\n",
    "    count=0\n",
    "\n",
    "    # Write your logic here\n",
    "    for i in range(0,len(num_list)):\n",
    "        if num_list[i]==num_list[i-1]:\n",
    "            count+=1\n",
    "            i+=1\n",
    "    return count\n",
    "\n",
    "#provide different values in list and test your program\n",
    "num_list=[1,1,5,100,-20,-20,6,0,0,2,5,5]\n",
    "print(get_count(num_list))"
   ]
  },
  {
   "cell_type": "markdown",
   "id": "bff1fd4e",
   "metadata": {},
   "source": [
    "#### Problem Statement\n",
    "Write a python program to generate the ticket numbers for specified number of passengers traveling in a flight as per the details mentioned below:\n",
    "The ticket number should be generated as airline:src:dest:number\n",
    "where\n",
    "\n",
    "Consider AI as the value for airline\n",
    "src and dest should be the first three characters of the source and destination cities.\n",
    "number should be auto-generated starting from 101\n",
    "The program should return the list of ticket numbers of last five passengers.\n",
    "Note: If passenger count is less than 5, return the list of all generated ticket numbers."
   ]
  },
  {
   "cell_type": "code",
   "execution_count": 19,
   "id": "a5640513",
   "metadata": {},
   "outputs": [
    {
     "name": "stdout",
     "output_type": "stream",
     "text": [
      "['AI:Ban:Lon:102', 'AI:Ban:Lon:103', 'AI:Ban:Lon:104', 'AI:Ban:Lon:105', 'AI:Ban:Lon:106']\n"
     ]
    }
   ],
   "source": [
    "#lex_auth_012693763253788672132\n",
    "import random\n",
    "def generate_ticket(airline,source,destination,no_of_passengers):\n",
    "    ticket_number_list=[]\n",
    "    n=no_of_passengers\n",
    "    #Write your logic here\n",
    "    i=101\n",
    "    while no_of_passengers>0:\n",
    "        t=airline+\":\"+source[:3]+\":\"+destination[:3]+\":\"+str(i)\n",
    "        ticket_number_list.append(t)\n",
    "        i=i+1\n",
    "        no_of_passengers-=1\n",
    "    #Use the below return statement wherever applicable\n",
    "    if n>=5:\n",
    "        return ticket_number_list[-5:]\n",
    "    else:\n",
    "         return ticket_number_list\n",
    "\n",
    "#Provide different values for airline,source,destination,no_of_passengers and test your program\n",
    "print(generate_ticket(\"AI\",\"Bangalore\",\"London\",6))"
   ]
  },
  {
   "cell_type": "markdown",
   "id": "c3710212",
   "metadata": {},
   "source": [
    "#### Problem Statement\n",
    "Write a python program which displays the count of the names that matches a given pattern from a list of names provided.\n",
    "\n",
    "Consider the pattern characters to be:\n",
    "\n",
    "1. \"_ at\" where \"_\" can be one occurrence of any character\n",
    "\n",
    "2. \"%at%\" where \"%\" can have zero or any number of occurrences of a character\n",
    "\n",
    "Sample Input\n",
    "\n",
    "Expected Output\n",
    "\n",
    "[Hat, Cat, Rabbit, Matter]\n",
    "\n",
    "_at -> 2\n",
    "%at% -> 3\n",
    "\n"
   ]
  },
  {
   "cell_type": "code",
   "execution_count": 29,
   "id": "81ddc687",
   "metadata": {},
   "outputs": [
    {
     "name": "stdout",
     "output_type": "stream",
     "text": [
      "_at ->  2\n",
      "%at% ->  3\n"
     ]
    }
   ],
   "source": [
    "#lex_auth_01269438070259712046\n",
    "\n",
    "def count_names(name_list):\n",
    "    count1=0\n",
    "    count2=0\n",
    "    \n",
    "    #start writing your code here\n",
    "    #Populate the variables: count1 and count2\n",
    "    for i in name_list:\n",
    "        if len(i)==3:\n",
    "            if i[1:]==\"at\":\n",
    "                count1+=1\n",
    "                count2+=1\n",
    "        else:\n",
    "            if \"at\" in i:\n",
    "                count2+=1\n",
    "    print(\"_at -> \",count1)       \n",
    "    print(\"%at% -> \",count2)        \n",
    "            \n",
    "\n",
    "    # Use the below given print statements to display the output\n",
    "    # Also, do not modify them for verification to work\n",
    "    #print(\"_at -> \",count1)\n",
    "    #print(\"%at% -> \",count2)\n",
    "\n",
    "\n",
    "#Provide different names in the list and test your program\n",
    "name_list=[\"Hat\",\"Cat\",\"rabbit\",\"matter\"]\n",
    "count_names(name_list)"
   ]
  },
  {
   "cell_type": "markdown",
   "id": "5cca19f4",
   "metadata": {},
   "source": [
    "### Here is a program which has written to perform the baggage check of all the passengers of a particular flight. Each passenger can carry a minimum of 1 kg and a maximum of 30kg. "
   ]
  },
  {
   "cell_type": "code",
   "execution_count": 68,
   "id": "81eebf70",
   "metadata": {},
   "outputs": [
    {
     "name": "stdout",
     "output_type": "stream",
     "text": [
      "Passenger 1 : Proceed for baggage check.\n",
      "Passenger 2 : Proceed for baggage check.\n",
      "Passenger 3 : Maximum baggage weight allowed is 30kg.\n",
      "Passenger 4 : Maximum baggage weight allowed is 30kg.\n",
      "Passenger 5 : Proceed for baggage check.\n",
      "No. of passengers who cleared baggage check: 2\n"
     ]
    }
   ],
   "source": [
    "count=0\n",
    "i=1\n",
    "for baggage_weight in 29, 30, 31, 32, 28:\n",
    "    if baggage_weight>0 and baggage_weight<=30:\n",
    "        print(\"Passenger\",i,\": Proceed for baggage check.\")\n",
    "    else:\n",
    "        count+=1\n",
    "        print(\"Passenger\",i,\": Maximum baggage weight allowed is 30kg.\")\n",
    "    i+=1\n",
    "print(\"No. of passengers who cleared baggage check:\", count)"
   ]
  },
  {
   "cell_type": "markdown",
   "id": "951d1e61",
   "metadata": {},
   "source": [
    "### permutations oƒ a list"
   ]
  },
  {
   "cell_type": "code",
   "execution_count": 137,
   "id": "ff95b7e9",
   "metadata": {},
   "outputs": [
    {
     "name": "stdout",
     "output_type": "stream",
     "text": [
      "123\n",
      "132\n",
      "213\n",
      "231\n",
      "312\n",
      "321\n"
     ]
    }
   ],
   "source": [
    "#method 1 using list comprehension\n",
    "def perm1(li):\n",
    "    if len(li)==1:\n",
    "        return li\n",
    "    elif len(li)==2:\n",
    "        return [li,li[::-1]]\n",
    "    else:\n",
    "        listPerm = [[a, b, c]\n",
    "                    for a in li \n",
    "                    for b in li\n",
    "                    for c in li\n",
    "                    if ( a != b and b != c and a != c )\n",
    "                    ]\n",
    "        return listPerm\n",
    "list2Perm = '123'\n",
    "ans=perm1(list2Perm)\n",
    "for i in ans:\n",
    "    s=''\n",
    "    for j in i:\n",
    "        s+=str(j)\n",
    "    print(s)   "
   ]
  },
  {
   "cell_type": "code",
   "execution_count": null,
   "id": "44680fd9",
   "metadata": {},
   "outputs": [],
   "source": []
  },
  {
   "cell_type": "code",
   "execution_count": 142,
   "id": "e0015214",
   "metadata": {},
   "outputs": [
    {
     "data": {
      "text/plain": [
       "[[1, 2, 3, 4],\n",
       " [1, 2, 4, 3],\n",
       " [1, 3, 2, 4],\n",
       " [1, 3, 4, 2],\n",
       " [1, 4, 2, 3],\n",
       " [1, 4, 3, 2],\n",
       " [2, 1, 3, 4],\n",
       " [2, 1, 4, 3],\n",
       " [2, 3, 1, 4],\n",
       " [2, 3, 4, 1],\n",
       " [2, 4, 1, 3],\n",
       " [2, 4, 3, 1],\n",
       " [3, 1, 2, 4],\n",
       " [3, 1, 4, 2],\n",
       " [3, 2, 1, 4],\n",
       " [3, 2, 4, 1],\n",
       " [3, 4, 1, 2],\n",
       " [3, 4, 2, 1],\n",
       " [4, 1, 2, 3],\n",
       " [4, 1, 3, 2],\n",
       " [4, 2, 1, 3],\n",
       " [4, 2, 3, 1],\n",
       " [4, 3, 1, 2],\n",
       " [4, 3, 2, 1]]"
      ]
     },
     "execution_count": 142,
     "metadata": {},
     "output_type": "execute_result"
    }
   ],
   "source": [
    "#metod 2  using recursion\n",
    "def getPermutations(array):\n",
    "    if len(array) == 1:\n",
    "        return [array]\n",
    "    permutations = []\n",
    "    for i in range(len(array)): \n",
    "        # get all perm's of subarray w/o current item\n",
    "        perms = getPermutations(array[:i] + array[i+1:])  \n",
    "        for p in perms:\n",
    "            permutations.append([array[i], *p])\n",
    "    return permutations\n",
    "getPermutations([1,2,3,4])"
   ]
  },
  {
   "cell_type": "code",
   "execution_count": 143,
   "id": "22d17bc1",
   "metadata": {},
   "outputs": [
    {
     "name": "stdout",
     "output_type": "stream",
     "text": [
      "(1, 2, 3)\n",
      "(1, 3, 2)\n",
      "(2, 1, 3)\n",
      "(2, 3, 1)\n",
      "(3, 1, 2)\n",
      "(3, 2, 1)\n"
     ]
    }
   ],
   "source": [
    "#method 3 using module itertools\n",
    "from itertools import permutations\n",
    "\n",
    "\n",
    "# Get all permutations of [1, 2, 3]\n",
    "perm = permutations([1, 2, 3])\n",
    "\n",
    "# Print the obtained permutations\n",
    "for i in list(perm):\n",
    "    print (i)"
   ]
  },
  {
   "cell_type": "code",
   "execution_count": null,
   "id": "6a1a9e63",
   "metadata": {},
   "outputs": [],
   "source": []
  },
  {
   "cell_type": "markdown",
   "id": "c56826ba",
   "metadata": {},
   "source": [
    "### Problem Statement\n",
    "Given a string containing uppercase characters (A-Z), compress the string using Run Length encoding. Repetition of character has to be replaced by storing the length of that run.\n",
    "\n",
    "Write a python function which performs the run length encoding for a given String and returns the run length encoded String.\n",
    "\n",
    "Provide different String values and test your program\n",
    "\n",
    "Sample Input\n",
    "\n",
    "Expected Output\n",
    "\n",
    "AAAABBBBCCCCCCCC\n",
    "\n",
    "4A4B8C\n",
    "\n",
    "AABCCA\n",
    "\n",
    "2A1B2C1A\n",
    "\n"
   ]
  },
  {
   "cell_type": "code",
   "execution_count": 321,
   "id": "8318fa92",
   "metadata": {},
   "outputs": [
    {
     "name": "stdout",
     "output_type": "stream",
     "text": [
      "1A4B8C1A1B\n"
     ]
    }
   ],
   "source": [
    "#lex_auth_012693816331657216161\n",
    "\n",
    "def encode(message):\n",
    "    e_str=''\n",
    "    curr=''\n",
    "    count=0\n",
    "    for i in message:\n",
    "        if i==curr:\n",
    "            count+=1\n",
    "        else:\n",
    "            if count>0:\n",
    "                e_str+=str(count)+curr\n",
    "            curr=i\n",
    "            count=1\n",
    "    if count>0:\n",
    "        e_str+=str(count)+curr\n",
    "    return e_str\n",
    "    #Remove pass and write your logic here\n",
    "\n",
    "#Provide different values for message and test your program\n",
    "encoded_message=encode(\"ABBBBCCCCCCCCAB\")\n",
    "print(encoded_message)\n"
   ]
  },
  {
   "cell_type": "code",
   "execution_count": 320,
   "id": "ae96e3cf",
   "metadata": {},
   "outputs": [
    {
     "name": "stdout",
     "output_type": "stream",
     "text": [
      "A 1\n",
      "B 1\n",
      "B 2\n",
      "B 3\n",
      "B 4\n",
      "C 1\n",
      "C 2\n",
      "C 3\n",
      "C 4\n",
      "C 5\n",
      "C 6\n",
      "C 7\n",
      "C 8\n",
      "A 1\n",
      "B 1\n"
     ]
    }
   ],
   "source": [
    "#lex_auth_012693816331657216161\n",
    "def encode(message):\n",
    "    count=0\n",
    "    li=[]\n",
    "    l2=[]\n",
    "    for i in range(0,len(message)):\n",
    "        if message[i]==message[i-1]:\n",
    "            count+=1\n",
    "        else:\n",
    "            count=1 \n",
    "            \n",
    "        print(message[i],count)\n",
    "                   \n",
    "#Provide different values for message and test your program\n",
    "encode(\"ABBBBCCCCCCCCAB\")"
   ]
  },
  {
   "cell_type": "code",
   "execution_count": 319,
   "id": "28ce575c",
   "metadata": {
    "scrolled": true
   },
   "outputs": [
    {
     "data": {
      "text/plain": [
       "['1A',\n",
       " '1B',\n",
       " '2B',\n",
       " '3B',\n",
       " '4B',\n",
       " '1C',\n",
       " '2C',\n",
       " '3C',\n",
       " '4C',\n",
       " '5C',\n",
       " '6C',\n",
       " '7C',\n",
       " '8C',\n",
       " '1A',\n",
       " '1B']"
      ]
     },
     "execution_count": 319,
     "metadata": {},
     "output_type": "execute_result"
    }
   ],
   "source": [
    "#lex_auth_012693816331657216161\n",
    "def encode(message):\n",
    "    count=0\n",
    "    \n",
    "    li=[]\n",
    "    for i in range(0,len(message)):\n",
    "       \n",
    "        if message[i]==message[i-1]:\n",
    "            count+=1\n",
    "        else:\n",
    "            count=1\n",
    "        x=str(count)+message[i]\n",
    "        li.append(x)\n",
    "    return li            \n",
    "#Provide different values for message and test your program\n",
    "encode(\"ABBBBCCCCCCCCAB\")"
   ]
  },
  {
   "cell_type": "code",
   "execution_count": null,
   "id": "67f59ba3",
   "metadata": {},
   "outputs": [],
   "source": []
  }
 ],
 "metadata": {
  "kernelspec": {
   "display_name": "Python 3 (ipykernel)",
   "language": "python",
   "name": "python3"
  },
  "language_info": {
   "codemirror_mode": {
    "name": "ipython",
    "version": 3
   },
   "file_extension": ".py",
   "mimetype": "text/x-python",
   "name": "python",
   "nbconvert_exporter": "python",
   "pygments_lexer": "ipython3",
   "version": "3.9.12"
  }
 },
 "nbformat": 4,
 "nbformat_minor": 5
}
